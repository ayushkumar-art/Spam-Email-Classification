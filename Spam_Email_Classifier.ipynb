{
 "cells": [
  {
   "cell_type": "markdown",
   "id": "e81de58d",
   "metadata": {},
   "source": [
    "# Spam Email Classifier\n",
    "\n",
    "A machine learning model to classify emails as spam or not spam using the UCI Spambase dataset."
   ]
  },
  {
   "cell_type": "code",
   "execution_count": null,
   "id": "1f4079cc",
   "metadata": {},
   "outputs": [],
   "source": [
    "import pandas as pd\n",
    "import joblib\n",
    "from sklearn.model_selection import train_test_split\n",
    "from sklearn.naive_bayes import MultinomialNB\n",
    "from sklearn.feature_extraction.text import TfidfVectorizer\n",
    "from sklearn.metrics import classification_report"
   ]
  },
  {
   "cell_type": "markdown",
   "id": "6ed3df1f",
   "metadata": {},
   "source": [
    "## Load Data"
   ]
  },
  {
   "cell_type": "code",
   "execution_count": null,
   "id": "ff8db0ce",
   "metadata": {},
   "outputs": [],
   "source": [
    "df = pd.read_csv('../data/spambase.data', header=None)\n",
    "df.head()"
   ]
  },
  {
   "cell_type": "markdown",
   "id": "678e617b",
   "metadata": {},
   "source": [
    "## Preprocess Data"
   ]
  },
  {
   "cell_type": "code",
   "execution_count": null,
   "id": "1305fb5a",
   "metadata": {},
   "outputs": [],
   "source": [
    "X = df.iloc[:, :-1]\n",
    "y = df.iloc[:, -1]\n",
    "\n",
    "# Simulate 'email text' by joining features as strings\n",
    "text_data = X.astype(str).agg(' '.join, axis=1)\n",
    "\n",
    "vectorizer = TfidfVectorizer(stop_words='english', max_df=0.9)\n",
    "X_tfidf = vectorizer.fit_transform(text_data)\n",
    "\n",
    "X_train, X_test, y_train, y_test = train_test_split(X_tfidf, y, test_size=0.2, random_state=42)"
   ]
  },
  {
   "cell_type": "markdown",
   "id": "ad5b6baa",
   "metadata": {},
   "source": [
    "## Train Model"
   ]
  },
  {
   "cell_type": "code",
   "execution_count": null,
   "id": "e922b931",
   "metadata": {},
   "outputs": [],
   "source": [
    "model = MultinomialNB()\n",
    "model.fit(X_train, y_train)"
   ]
  },
  {
   "cell_type": "markdown",
   "id": "7d2ab385",
   "metadata": {},
   "source": [
    "## Evaluate Model"
   ]
  },
  {
   "cell_type": "code",
   "execution_count": null,
   "id": "a584fc7b",
   "metadata": {},
   "outputs": [],
   "source": [
    "y_pred = model.predict(X_test)\n",
    "print(classification_report(y_test, y_pred))"
   ]
  },
  {
   "cell_type": "markdown",
   "id": "23201d04",
   "metadata": {},
   "source": [
    "## Save Model"
   ]
  },
  {
   "cell_type": "code",
   "execution_count": null,
   "id": "4ca31606",
   "metadata": {},
   "outputs": [],
   "source": [
    "joblib.dump(model, '../models/spam_classifier_model.pkl')\n",
    "joblib.dump(vectorizer, '../models/tfidf_vectorizer.pkl')"
   ]
  },
  {
   "cell_type": "markdown",
   "id": "02648ecc",
   "metadata": {},
   "source": [
    "## Predict Example"
   ]
  },
  {
   "cell_type": "code",
   "execution_count": null,
   "id": "a344b79f",
   "metadata": {},
   "outputs": [],
   "source": [
    "# Replace with 57 real feature values as strings\n",
    "dummy_email = ['0']*57\n",
    "sample = ' '.join(dummy_email)\n",
    "vector = vectorizer.transform([sample])\n",
    "print('Prediction:', 'Spam' if model.predict(vector)[0] == 1 else 'Ham')"
   ]
  }
 ],
 "metadata": {},
 "nbformat": 4,
 "nbformat_minor": 5
}
